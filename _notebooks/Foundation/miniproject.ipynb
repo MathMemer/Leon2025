{
 "cells": [
  {
   "cell_type": "raw",
   "metadata": {
    "vscode": {
     "languageId": "raw"
    }
   },
   "source": [
    "---\n",
    "layout: post\n",
    "title: Mini Project 1\n",
    "description:  First Gaming Blog Mini Project\n",
    "type: issues \n",
    "comments: true\n",
    "---"
   ]
  },
  {
   "cell_type": "markdown",
   "metadata": {},
   "source": [
    "<!DOCTYPE html>\n",
    "<html lang=\"en\">\n",
    "<head>\n",
    "    <meta charset=\"UTF-8\">\n",
    "    <meta name=\"viewport\" content=\"width=device-width, initial-scale=1.0\">\n",
    "    <title>Gaming Blog</title>\n",
    "    <link rel=\"stylesheet\" href=\"miniprojectstyle.css\"> <!-- Link to your CSS file -->\n",
    "</head>\n",
    "<body>\n",
    "    <header>\n",
    "        <div class=\"container\">\n",
    "            <h1>Gaming Blog</h1>\n",
    "            <nav id=\"submenu\">\n",
    "                <ul>\n",
    "                    <li><a href=\"#games\">Games</a></li>\n",
    "                    <li><a href=\"#tips\">Tips & Tricks</a></li>\n",
    "                    <li><a href=\"#mods\">Mods</a></li>\n",
    "                    <li><a href=\"#community\">Community</a></li>\n",
    "                </ul>\n",
    "            </nav>\n",
    "        </div>\n",
    "    </header>\n",
    "    <main>\n",
    "        <section id=\"games\">\n",
    "            <div class=\"container\">\n",
    "                <h2>Games</h2>\n",
    "                <p>Discover the latest and greatest games. From action-packed adventures to mind-bending puzzles, explore a diverse range of gaming experiences.</p>\n",
    "            </div>\n",
    "        </section>\n",
    "        <section id=\"tips\">\n",
    "            <div class=\"container\">\n",
    "                <h2>Tips & Tricks</h2>\n",
    "                <p>Enhance your gaming skills with these useful tips and tricks. Whether you're a novice or a pro, you'll find valuable advice to improve your gameplay.</p>\n",
    "                <button id=\"randomTipButton\">Get Random Tip</button>\n",
    "                <p id=\"randomTip\"></p>\n",
    "            </div>\n",
    "        </section>\n",
    "        <section id=\"mods\">\n",
    "            <div class=\"container\">\n",
    "                <h2>Mods</h2>\n",
    "                <p>Explore popular mods that can enhance and customize your gaming experience. Find mods for a variety of games and take your gameplay to the next level.</p>\n",
    "            </div>\n",
    "        </section>\n",
    "        <section id=\"community\">\n",
    "            <div class=\"container\">\n",
    "                <h2>Community</h2>\n",
    "                <p>Join the conversation with other gamers. Check out forums, social media groups, and other community resources to connect with fellow enthusiasts.</p>\n",
    "            </div>\n",
    "        </section>\n",
    "    </main>\n",
    "    <footer>\n",
    "        <div class=\"container\">\n",
    "            <p>&copy; 2024 Gaming Blog. All rights reserved.</p>\n",
    "        </div>\n",
    "    </footer>\n",
    "    <script src=\"miniproject.js\"></script> <!-- Link to your JavaScript file -->\n",
    "</body>\n",
    "</html>\n"
   ]
  }
 ],
 "metadata": {
  "language_info": {
   "name": "python"
  }
 },
 "nbformat": 4,
 "nbformat_minor": 2
}
